{
 "cells": [
  {
   "cell_type": "markdown",
   "id": "08ab491e-1ad8-4458-b788-150a5609bca1",
   "metadata": {},
   "source": [
    "## Downloading images"
   ]
  },
  {
   "cell_type": "code",
   "execution_count": null,
   "id": "32075c4f-95ae-41a4-bad7-214bff65238a",
   "metadata": {},
   "outputs": [
    {
     "data": {
      "application/vnd.jupyter.widget-view+json": {
       "model_id": "0589335a6cda40a79307ea5ce6fcdd0e",
       "version_major": 2,
       "version_minor": 0
      },
      "text/plain": [
       "  0%|          | 0/100 [00:00<?, ?it/s]"
      ]
     },
     "metadata": {},
     "output_type": "display_data"
    }
   ],
   "source": [
    "# progress bar\n",
    "import time\n",
    "from tqdm.auto import tqdm\n",
    "for x in tqdm(range(100)):\n",
    "    time.sleep(1)"
   ]
  },
  {
   "cell_type": "code",
   "execution_count": null,
   "id": "a82814cd-aad4-48a6-a070-9a307e23aeda",
   "metadata": {},
   "outputs": [],
   "source": [
    "# download many images in parallel\n",
    "import wget\n",
    "from joblib import Parallel, delayed\n",
    "from tqdm.auto import tqdm\n",
    "\n",
    "parallelize = Parallel(n_jobs=100)\n",
    "img_paths = parallelize(delayed(wget.download)(img_url, out='imgs') for img_url in tqdm(train.image))\n"
   ]
  }
 ],
 "metadata": {
  "kernelspec": {
   "display_name": "Python 3 (ipykernel)",
   "language": "python",
   "name": "python3"
  },
  "language_info": {
   "codemirror_mode": {
    "name": "ipython",
    "version": 3
   },
   "file_extension": ".py",
   "mimetype": "text/x-python",
   "name": "python",
   "nbconvert_exporter": "python",
   "pygments_lexer": "ipython3",
   "version": "3.9.13"
  }
 },
 "nbformat": 4,
 "nbformat_minor": 5
}
