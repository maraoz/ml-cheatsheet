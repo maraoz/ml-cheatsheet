{
 "cells": [
  {
   "cell_type": "code",
   "execution_count": null,
   "id": "c7d7b872-b8aa-4dc9-abd3-62f673984fb4",
   "metadata": {},
   "outputs": [],
   "source": [
    "# count word frequency in dataframe with strings \n",
    "df.message.str.split(expand=True).stack().value_counts()"
   ]
  },
  {
   "cell_type": "code",
   "execution_count": null,
   "id": "4c02f566-cbb5-4bef-9ca2-e65deee8ea60",
   "metadata": {},
   "outputs": [],
   "source": [
    "# create categorical \n",
    "df['sender_id'] = pd.Categorical(df.sender)"
   ]
  }
 ],
 "metadata": {
  "kernelspec": {
   "display_name": "",
   "name": ""
  },
  "language_info": {
   "name": ""
  }
 },
 "nbformat": 4,
 "nbformat_minor": 5
}
