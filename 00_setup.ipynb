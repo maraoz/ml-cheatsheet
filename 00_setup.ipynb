{
 "cells": [
  {
   "cell_type": "markdown",
   "id": "3a9922b8-51fb-450d-a08e-50b9ad90d8f1",
   "metadata": {},
   "source": [
    "## Setup Paperspace Gradient instance"
   ]
  },
  {
   "cell_type": "code",
   "execution_count": 1,
   "id": "46965e23-e27c-44e2-8252-9d8b4ad8b67e",
   "metadata": {
    "tags": []
   },
   "outputs": [
    {
     "name": "stdout",
     "output_type": "stream",
     "text": [
      "Done\n"
     ]
    }
   ],
   "source": [
    "# copy github ssh key\n",
    "!mkdir -p ~/.ssh\n",
    "!cp /notebooks/id_ecdsa* ~/.ssh/\n",
    "!git config --global user.email \"gh@maraoz.com\"\n",
    "!git config --global user.name \"maraoz\"\n",
    "\n",
    "# copy kaggle.json\n",
    "!mkdir -p /root/.kaggle\n",
    "!cp /notebooks/kaggle.json /root/.kaggle/kaggle.json\n",
    "!echo \"Done\""
   ]
  },
  {
   "cell_type": "code",
   "execution_count": null,
   "id": "b5dd1329-5d20-45b6-b737-43476cbf9666",
   "metadata": {},
   "outputs": [],
   "source": []
  }
 ],
 "metadata": {
  "kernelspec": {
   "display_name": "Python 3 (ipykernel)",
   "language": "python",
   "name": "python3"
  },
  "language_info": {
   "codemirror_mode": {
    "name": "ipython",
    "version": 3
   },
   "file_extension": ".py",
   "mimetype": "text/x-python",
   "name": "python",
   "nbconvert_exporter": "python",
   "pygments_lexer": "ipython3",
   "version": "3.9.13"
  }
 },
 "nbformat": 4,
 "nbformat_minor": 5
}
