{
 "cells": [
  {
   "cell_type": "markdown",
   "id": "3a9922b8-51fb-450d-a08e-50b9ad90d8f1",
   "metadata": {},
   "source": [
    "## Setup Paperspace Gradient instance"
   ]
  },
  {
   "cell_type": "code",
   "execution_count": 1,
   "id": "46965e23-e27c-44e2-8252-9d8b4ad8b67e",
   "metadata": {
    "tags": []
   },
   "outputs": [
    {
     "name": "stdout",
     "output_type": "stream",
     "text": [
      "Reading package lists... Done\n",
      "Building dependency tree       \n",
      "Reading state information... Done\n",
      "Suggested packages:\n",
      "  lsof strace\n",
      "The following NEW packages will be installed:\n",
      "  git-lfs htop net-tools tree\n",
      "0 upgraded, 4 newly installed, 0 to remove and 39 not upgraded.\n",
      "Need to get 3636 kB of archives.\n",
      "After this operation, 12.3 MB of additional disk space will be used.\n",
      "Get:1 http://archive.ubuntu.com/ubuntu focal/universe amd64 git-lfs amd64 2.9.2-1 [3316 kB]\n",
      "Get:2 http://archive.ubuntu.com/ubuntu focal/main amd64 htop amd64 2.2.0-2build1 [80.5 kB]\n",
      "Get:3 http://archive.ubuntu.com/ubuntu focal/main amd64 net-tools amd64 1.60+git20180626.aebd88e-1ubuntu1 [196 kB]\n",
      "Get:4 http://archive.ubuntu.com/ubuntu focal/universe amd64 tree amd64 1.8.0-1 [43.0 kB]\n",
      "Fetched 3636 kB in 0s (15.8 MB/s)\n",
      "Selecting previously unselected package git-lfs.\n",
      "(Reading database ... 78769 files and directories currently installed.)\n",
      "Preparing to unpack .../git-lfs_2.9.2-1_amd64.deb ...\n",
      "Unpacking git-lfs (2.9.2-1) ...\n",
      "Selecting previously unselected package htop.\n",
      "Preparing to unpack .../htop_2.2.0-2build1_amd64.deb ...\n",
      "Unpacking htop (2.2.0-2build1) ...\n",
      "Selecting previously unselected package net-tools.\n",
      "Preparing to unpack .../net-tools_1.60+git20180626.aebd88e-1ubuntu1_amd64.deb ...\n",
      "Unpacking net-tools (1.60+git20180626.aebd88e-1ubuntu1) ...\n",
      "Selecting previously unselected package tree.\n",
      "Preparing to unpack .../tree_1.8.0-1_amd64.deb ...\n",
      "Unpacking tree (1.8.0-1) ...\n",
      "Setting up net-tools (1.60+git20180626.aebd88e-1ubuntu1) ...\n",
      "Setting up htop (2.2.0-2build1) ...\n",
      "Setting up tree (1.8.0-1) ...\n",
      "Setting up git-lfs (2.9.2-1) ...\n",
      "Processing triggers for man-db (2.9.1-1) ...\n",
      "Processing triggers for mime-support (3.64ubuntu1) ...\n",
      "Collecting PyYAML\n",
      "  Downloading PyYAML-6.0.1-cp39-cp39-manylinux_2_17_x86_64.manylinux2014_x86_64.whl (738 kB)\n",
      "\u001b[2K     \u001b[90m━━━━━━━━━━━━━━━━━━━━━━━━━━━━━━━━━━━━━━\u001b[0m \u001b[32m738.9/738.9 kB\u001b[0m \u001b[31m37.2 MB/s\u001b[0m eta \u001b[36m0:00:00\u001b[0m\n",
      "\u001b[?25hInstalling collected packages: PyYAML\n",
      "\u001b[31mERROR: pip's dependency resolver does not currently take into account all the packages that are installed. This behaviour is the source of the following dependency conflicts.\n",
      "gradient 2.0.5 requires PyYAML==5.*, but you have pyyaml 6.0.1 which is incompatible.\u001b[0m\u001b[31m\n",
      "\u001b[0mSuccessfully installed PyYAML-6.0.1\n",
      "\u001b[33mWARNING: Running pip as the 'root' user can result in broken permissions and conflicting behaviour with the system package manager. It is recommended to use a virtual environment instead: https://pip.pypa.io/warnings/venv\u001b[0m\u001b[33m\n",
      "\u001b[0mDone\n"
     ]
    }
   ],
   "source": [
    "# copy github ssh key\n",
    "!mkdir -p ~/.ssh\n",
    "!cp /notebooks/id_ecdsa* ~/.ssh/\n",
    "!git config --global user.email \"gh@maraoz.com\"\n",
    "!git config --global user.name \"maraoz\"\n",
    "\n",
    "# copy kaggle.json\n",
    "!mkdir -p /root/.kaggle\n",
    "!cp /notebooks/kaggle.json /root/.kaggle/kaggle.json\n",
    "\n",
    "# git lfs\n",
    "!sudo apt-get install git-lfs net-tools htop tree\n",
    "\n",
    "# pyYAML fuck you\n",
    "!pip install --ignore-installed PyYAML\n",
    "\n",
    "#done\n",
    "!echo \"Done\""
   ]
  },
  {
   "cell_type": "code",
   "execution_count": null,
   "id": "b236de62-6eff-4926-9ebe-210e117998ec",
   "metadata": {},
   "outputs": [],
   "source": []
  }
 ],
 "metadata": {
  "kernelspec": {
   "display_name": "Python 3 (ipykernel)",
   "language": "python",
   "name": "python3"
  },
  "language_info": {
   "codemirror_mode": {
    "name": "ipython",
    "version": 3
   },
   "file_extension": ".py",
   "mimetype": "text/x-python",
   "name": "python",
   "nbconvert_exporter": "python",
   "pygments_lexer": "ipython3",
   "version": "3.9.13"
  }
 },
 "nbformat": 4,
 "nbformat_minor": 5
}
