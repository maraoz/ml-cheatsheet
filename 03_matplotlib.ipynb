{
 "cells": [
  {
   "cell_type": "markdown",
   "id": "ffc1e9c9-522a-48dc-af34-86d9b5a0ea56",
   "metadata": {},
   "source": [
    "### Setup"
   ]
  },
  {
   "cell_type": "code",
   "execution_count": 2,
   "id": "c4358ff7-d54b-44d9-bca4-618ee6c4a477",
   "metadata": {},
   "outputs": [],
   "source": [
    "import matplotlib.pyplot as plt\n",
    "%matplotlib inline\n",
    "plt.rcParams['figure.figsize'] = [6,4]\n",
    "plt.rcParams['figure.dpi'] = 80"
   ]
  },
  {
   "cell_type": "markdown",
   "id": "23deecc1-81a1-4597-8471-ea545a7d1b35",
   "metadata": {},
   "source": [
    "### Figures"
   ]
  },
  {
   "cell_type": "code",
   "execution_count": null,
   "id": "eb5d9ea5-25e4-4ba9-9509-fed1e471d2af",
   "metadata": {},
   "outputs": [],
   "source": [
    "# histogram\n",
    "plt.hist(x)\n",
    "plt.show() "
   ]
  },
  {
   "cell_type": "code",
   "execution_count": null,
   "id": "a8591f6a-4b3f-4841-a2d0-30f205b79688",
   "metadata": {},
   "outputs": [],
   "source": [
    "# bar chart\n",
    "plt.bar(counts.sender, counts.messages)"
   ]
  },
  {
   "cell_type": "markdown",
   "id": "d54e857f-f6c9-4aad-918d-7a31eea85dc2",
   "metadata": {},
   "source": [
    "### Video"
   ]
  },
  {
   "cell_type": "code",
   "execution_count": 1,
   "id": "dd62f8ed-1b44-4a0e-a299-4541ef0747bf",
   "metadata": {},
   "outputs": [],
   "source": [
    "from IPython.display import Video\n",
    "import matplotlib.pyplot as plt\n",
    "import matplotlib.cm as cm\n",
    "import matplotlib.animation as animation\n",
    "\n",
    "def create_movie(images, fname=\"movie.mp4\"):\n",
    "    frames = [] # for storing the generated images\n",
    "    fig = plt.figure()\n",
    "    for i in range(len(images)):\n",
    "        frames.append([plt.imshow(images[i], cmap=cm.Greys_r, animated=True)])\n",
    "\n",
    "    ani = animation.ArtistAnimation(fig, frames, interval=50, blit=True,\n",
    "                                    repeat_delay=1000)\n",
    "    ani.save(fname)\n",
    "    \n",
    "def play_movie(fname=\"movie.mp4\"):\n",
    "    return Video(\"movie.mp4\")\n",
    "\n",
    "def movie(images, fname=\"movie.mp4\"):\n",
    "    print('creating movie...')\n",
    "    create_movie(images, fname)\n",
    "    print('playing movie...')\n",
    "    return play_movie(fname)"
   ]
  }
 ],
 "metadata": {
  "kernelspec": {
   "display_name": "Python 3 (ipykernel)",
   "language": "python",
   "name": "python3"
  },
  "language_info": {
   "codemirror_mode": {
    "name": "ipython",
    "version": 3
   },
   "file_extension": ".py",
   "mimetype": "text/x-python",
   "name": "python",
   "nbconvert_exporter": "python",
   "pygments_lexer": "ipython3",
   "version": "3.9.13"
  }
 },
 "nbformat": 4,
 "nbformat_minor": 5
}
