{
 "cells": [
  {
   "cell_type": "code",
   "execution_count": null,
   "id": "51908e3c-1b84-418f-b79d-44917e20f2d2",
   "metadata": {},
   "outputs": [],
   "source": [
    "# check if we have a GPU\n",
    "device = 'cuda' if torch.cuda.is_available() else 'cpu'\n",
    "device"
   ]
  },
  {
   "cell_type": "code",
   "execution_count": 1,
   "id": "ebbc4e4a-f24d-435e-b766-989f455a7edc",
   "metadata": {},
   "outputs": [],
   "source": [
    "# gpu memory management\n",
    "import gc, torch\n",
    "!pip install -Uqq pynvml\n",
    "\n",
    "def free_gpu():\n",
    "    gc.collect()\n",
    "    torch.cuda.empty_cache()\n",
    "    \n",
    "def report_gpu():\n",
    "    print(torch.cuda.list_gpu_processes())\n",
    "    free_gpu()"
   ]
  },
  {
   "cell_type": "code",
   "execution_count": 2,
   "id": "b43d6ae1-d6f4-4b9f-aef1-a5bbb06cbf90",
   "metadata": {},
   "outputs": [
    {
     "name": "stdout",
     "output_type": "stream",
     "text": [
      "GPU:0\n",
      "process       8677 uses     5635.000 MB GPU memory\n"
     ]
    }
   ],
   "source": [
    "report_gpu()"
   ]
  },
  {
   "cell_type": "code",
   "execution_count": null,
   "id": "9aef6ab4-0120-4670-849c-f7b6806beb26",
   "metadata": {},
   "outputs": [],
   "source": []
  }
 ],
 "metadata": {
  "kernelspec": {
   "display_name": "Python 3 (ipykernel)",
   "language": "python",
   "name": "python3"
  },
  "language_info": {
   "codemirror_mode": {
    "name": "ipython",
    "version": 3
   },
   "file_extension": ".py",
   "mimetype": "text/x-python",
   "name": "python",
   "nbconvert_exporter": "python",
   "pygments_lexer": "ipython3",
   "version": "3.9.13"
  }
 },
 "nbformat": 4,
 "nbformat_minor": 5
}
