{
 "cells": [
  {
   "cell_type": "markdown",
   "id": "37f18e7d-fc73-4c0f-bb43-b9cf3e7c1771",
   "metadata": {},
   "source": [
    "## Setup"
   ]
  },
  {
   "cell_type": "code",
   "execution_count": 1,
   "id": "8ead8a82-ba01-4333-bd5f-3cf15b3b15d7",
   "metadata": {},
   "outputs": [],
   "source": [
    "!pip install -qq timm\n",
    "!pip install -qq fastai\n",
    "!pip install -qq pynvml\n",
    "\n",
    "import timm \n",
    "from fastai.vision.all import *"
   ]
  },
  {
   "cell_type": "markdown",
   "id": "a579709a-8503-492e-9b78-c4cc86326c2f",
   "metadata": {},
   "source": [
    "## Data loading"
   ]
  },
  {
   "cell_type": "code",
   "execution_count": null,
   "id": "0aa1c468-8f83-4768-ac7f-4f82845c2475",
   "metadata": {},
   "outputs": [],
   "source": [
    "# Load data from image folder\n",
    "dls = ImageDataLoaders.from_folder(path, \n",
    "        valid_pct=0.2,\n",
    "        item_tfms=Resize(480),\n",
    "        batch_tfms=aug_transforms(size=224, min_scale=0.75),\n",
    "        bs=64)\n",
    "dls.show_batch(nrows=1, ncols=4)"
   ]
  },
  {
   "cell_type": "markdown",
   "id": "ab9753ed-14fe-4254-92b4-ba38d431f72f",
   "metadata": {},
   "source": [
    "## Training"
   ]
  },
  {
   "cell_type": "code",
   "execution_count": null,
   "id": "ca770403-9a14-48b8-a52a-4cfd15731cac",
   "metadata": {},
   "outputs": [],
   "source": [
    "# learning rate finder\n",
    "learn.lr_find(suggest_funcs=(minimum, steep, valley))"
   ]
  },
  {
   "cell_type": "markdown",
   "id": "2fd749c7-bb5f-49f1-ae24-3a76d1e78b2a",
   "metadata": {},
   "source": [
    "## Interpretation"
   ]
  },
  {
   "cell_type": "code",
   "execution_count": null,
   "id": "de95e72b-a253-4285-aecd-b5b5f79d9cb3",
   "metadata": {},
   "outputs": [],
   "source": [
    "# confusion matrix\n",
    "interp = ClassificationInterpretation.from_learner(learn)\n",
    "interp.plot_confusion_matrix(figsize=(12,12), dpi=60)"
   ]
  },
  {
   "cell_type": "code",
   "execution_count": null,
   "id": "8d28208b-0750-491c-bfa1-4c5c14b32fe3",
   "metadata": {},
   "outputs": [],
   "source": [
    "interp.most_confused(min_val=5)"
   ]
  }
 ],
 "metadata": {
  "kernelspec": {
   "display_name": "Python 3 (ipykernel)",
   "language": "python",
   "name": "python3"
  },
  "language_info": {
   "codemirror_mode": {
    "name": "ipython",
    "version": 3
   },
   "file_extension": ".py",
   "mimetype": "text/x-python",
   "name": "python",
   "nbconvert_exporter": "python",
   "pygments_lexer": "ipython3",
   "version": "3.9.13"
  }
 },
 "nbformat": 4,
 "nbformat_minor": 5
}
