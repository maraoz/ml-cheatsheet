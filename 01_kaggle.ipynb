{
 "cells": [
  {
   "cell_type": "code",
   "execution_count": null,
   "id": "d70b2337-c82c-4471-a064-1e75866d27b3",
   "metadata": {},
   "outputs": [],
   "source": [
    "# Kaggle dataset bootstrapping\n",
    "OWNER_NAME = 'asdasdasasdas/'\n",
    "DATASET_NAME = 'garbage-classification'\n",
    "\n",
    "!pip install -qq kaggle\n",
    "\n",
    "import os\n",
    "from pathlib import Path\n",
    "\n",
    "iskaggle = os.environ.get('KAGGLE_KERNEL_RUN_TYPE', '')\n",
    "\n",
    "if iskaggle:\n",
    "    path = Path('../input/'+DATASET_NAME)\n",
    "else:\n",
    "    DOWNLOADS = Path('downloads')\n",
    "    import zipfile,kaggle\n",
    "    path = DOWNLOADS / DATASET_NAME\n",
    "    if not path.is_dir():\n",
    "        print('about to download', OWNER_NAME+DATASET_NAME, 'to', DOWNLOADS)\n",
    "        kaggle.api.dataset_download_files(OWNER_NAME+DATASET_NAME, path=DOWNLOADS)\n",
    "        print('about to unzip', f'{path}.zip', 'to', path)\n",
    "        zipfile.ZipFile(f'{path}.zip').extractall(path)\n",
    "print('done')"
   ]
  }
 ],
 "metadata": {
  "kernelspec": {
   "display_name": "Python 3 (ipykernel)",
   "language": "python",
   "name": "python3"
  },
  "language_info": {
   "codemirror_mode": {
    "name": "ipython",
    "version": 3
   },
   "file_extension": ".py",
   "mimetype": "text/x-python",
   "name": "python",
   "nbconvert_exporter": "python",
   "pygments_lexer": "ipython3",
   "version": "3.9.13"
  }
 },
 "nbformat": 4,
 "nbformat_minor": 5
}
