{
 "cells": [
  {
   "cell_type": "markdown",
   "id": "003877f5-fdf6-48c9-9669-31f49a09af75",
   "metadata": {},
   "source": [
    "## Kaggle comp or dataset download"
   ]
  },
  {
   "cell_type": "code",
   "execution_count": null,
   "id": "d70b2337-c82c-4471-a064-1e75866d27b3",
   "metadata": {},
   "outputs": [],
   "source": [
    "# Kaggle DATASET bootstrapping\n",
    "OWNER_NAME = 'asdasdasasdas/'\n",
    "DATASET_NAME = 'garbage-classification'\n",
    "\n",
    "!pip install -qq kaggle\n",
    "\n",
    "import os\n",
    "from pathlib import Path\n",
    "\n",
    "iskaggle = os.environ.get('KAGGLE_KERNEL_RUN_TYPE', '')\n",
    "\n",
    "if iskaggle:\n",
    "    path = Path('../input/'+DATASET_NAME)\n",
    "else:\n",
    "    DOWNLOADS = Path('downloads')\n",
    "    import zipfile,kaggle\n",
    "    path = DOWNLOADS / DATASET_NAME\n",
    "    if not path.is_dir():\n",
    "        print('about to download', OWNER_NAME+DATASET_NAME, 'to', DOWNLOADS)\n",
    "        kaggle.api.dataset_download_files(OWNER_NAME+DATASET_NAME, path=DOWNLOADS)\n",
    "        print('about to unzip', f'{path}.zip', 'to', path)\n",
    "        zipfile.ZipFile(f'{path}.zip').extractall(path)\n",
    "print('done')"
   ]
  },
  {
   "cell_type": "code",
   "execution_count": null,
   "id": "a7ee90e0-f02f-4dd1-8974-165ec2253a75",
   "metadata": {},
   "outputs": [],
   "source": [
    "# Kaggle COMPETITION bootstrapping\n",
    "COMPETITION_NAME = 'digit-recognizer' # replace me\n",
    "\n",
    "!pip install -qq fastai\n",
    "!pip install -qq kaggle\n",
    "\n",
    "from fastai.imports import *\n",
    "np.set_printoptions(linewidth=130)\n",
    "\n",
    "iskaggle = os.environ.get('KAGGLE_KERNEL_RUN_TYPE', '')\n",
    "\n",
    "# get competition data\n",
    "if iskaggle:\n",
    "    path = Path('../input/'+COMPETITION_NAME)\n",
    "else:\n",
    "    DOWNLOADS = Path('downloads')\n",
    "    import zipfile,kaggle\n",
    "    path = DOWNLOADS / COMPETITION_NAME\n",
    "    if not path.is_dir():\n",
    "        kaggle.api.competition_download_cli(COMPETITION_NAME, path=DOWNLOADS)\n",
    "        zipfile.ZipFile(f'{path}.zip').extractall(path)\n",
    "print('done')"
   ]
  },
  {
   "cell_type": "markdown",
   "id": "01431a01-e315-4104-bbf2-bef466c162ea",
   "metadata": {},
   "source": [
    "## Submission"
   ]
  },
  {
   "cell_type": "code",
   "execution_count": null,
   "id": "82d3d0de-b9f8-49b4-8866-ac55fff050f1",
   "metadata": {},
   "outputs": [],
   "source": [
    "submission = pd.read_csv(path/'sample_submission.csv')\n",
    "submission.shape"
   ]
  },
  {
   "cell_type": "code",
   "execution_count": null,
   "id": "8c968fff-d9ff-4f62-a42e-92f0e4049ba6",
   "metadata": {},
   "outputs": [],
   "source": [
    "# write submission csv\n",
    "technique = 'ensamble finetune 5 epochs with TTA'\n",
    "sub_filename = Path('subs')/(COMPETITION_NAME+'-'+technique+'-sub.csv')\n",
    "submission.to_csv(sub_filename, index=False)\n",
    "\n",
    "if not iskaggle:\n",
    "    print('about to submit', sub_filename, 'to kaggle')\n",
    "    input('continue?')\n",
    "    ret = kaggle.api.competition_submit(sub_filename, technique, COMPETITION_NAME)\n",
    "    print(ret)"
   ]
  }
 ],
 "metadata": {
  "kernelspec": {
   "display_name": "Python 3 (ipykernel)",
   "language": "python",
   "name": "python3"
  },
  "language_info": {
   "codemirror_mode": {
    "name": "ipython",
    "version": 3
   },
   "file_extension": ".py",
   "mimetype": "text/x-python",
   "name": "python",
   "nbconvert_exporter": "python",
   "pygments_lexer": "ipython3",
   "version": "3.9.13"
  }
 },
 "nbformat": 4,
 "nbformat_minor": 5
}
